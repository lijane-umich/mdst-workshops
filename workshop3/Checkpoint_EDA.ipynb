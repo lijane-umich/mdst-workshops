{
 "cells": [
  {
   "cell_type": "markdown",
   "metadata": {},
   "source": [
    "# Task for evaluating EDA skills\n",
    "* Import pandas\n",
    "* Put HospitalAdmissionsData into a dataframe: https://umich.instructure.com/courses/38100/files/folder/Case_Studies/18_HospitalAdmissions?preview=5005926\n",
    "* Answer the following:\n",
    "    * What are the column headers or features in this data set?\n",
    "    * How many features are floats? how many are integers? \n",
    "    * Which features are objects (non-numeric variables)?\n",
    "    * What are the possible 'values' for features that are objects?\n",
    "    * Show the summary statistics for the numerical data\n",
    "    * What is the most common admission type, insurance type, religion type, race, and diagnosis (Dx)?\n",
    "    * Show a histogram for admission days (with appropriate labels, titles, etc), and also show a histogram for admission days on a log scale. Describe what you see.\n",
    "    * Compare the average length of admission between those who died versus those who did not die. Show a visualization, with appropriate labels, titles, etc.\n",
    "    * Describe the association between death and insurance type and show a visualization or test."
   ]
  },
  {
   "cell_type": "code",
   "execution_count": 1,
   "metadata": {},
   "outputs": [],
   "source": [
    "import pandas as pd"
   ]
  },
  {
   "cell_type": "code",
   "execution_count": 2,
   "metadata": {},
   "outputs": [],
   "source": [
    "filepath = \"C:/Users/janes/Documents/MDST/MDST Resources/HospitalAdmissionsData.csv\"\n",
    "df = pd.read_csv(filepath)"
   ]
  },
  {
   "cell_type": "code",
   "execution_count": 3,
   "metadata": {},
   "outputs": [
    {
     "data": {
      "text/html": [
       "<div>\n",
       "<style scoped>\n",
       "    .dataframe tbody tr th:only-of-type {\n",
       "        vertical-align: middle;\n",
       "    }\n",
       "\n",
       "    .dataframe tbody tr th {\n",
       "        vertical-align: top;\n",
       "    }\n",
       "\n",
       "    .dataframe thead th {\n",
       "        text-align: right;\n",
       "    }\n",
       "</style>\n",
       "<table border=\"1\" class=\"dataframe\">\n",
       "  <thead>\n",
       "    <tr style=\"text-align: right;\">\n",
       "      <th></th>\n",
       "      <th>ID</th>\n",
       "      <th>AdmissionLengthDays</th>\n",
       "      <th>Death_1</th>\n",
       "      <th>Admission_Type</th>\n",
       "      <th>Insurance_Type</th>\n",
       "      <th>EnglishLanguage_1</th>\n",
       "      <th>Religion_Type</th>\n",
       "      <th>Married_1</th>\n",
       "      <th>Race</th>\n",
       "      <th>Dx</th>\n",
       "    </tr>\n",
       "  </thead>\n",
       "  <tbody>\n",
       "    <tr>\n",
       "      <th>0</th>\n",
       "      <td>42862</td>\n",
       "      <td>4.277778</td>\n",
       "      <td>0</td>\n",
       "      <td>elective</td>\n",
       "      <td>private</td>\n",
       "      <td>1</td>\n",
       "      <td>episcopalian</td>\n",
       "      <td>1</td>\n",
       "      <td>white</td>\n",
       "      <td>mitral stenosis\\mitral valve replacement /sda</td>\n",
       "    </tr>\n",
       "    <tr>\n",
       "      <th>1</th>\n",
       "      <td>5967</td>\n",
       "      <td>26.122917</td>\n",
       "      <td>0</td>\n",
       "      <td>elective</td>\n",
       "      <td>private</td>\n",
       "      <td>0</td>\n",
       "      <td>catholic</td>\n",
       "      <td>1</td>\n",
       "      <td>white</td>\n",
       "      <td>duodenal mass/sda</td>\n",
       "    </tr>\n",
       "    <tr>\n",
       "      <th>2</th>\n",
       "      <td>50952</td>\n",
       "      <td>7.028472</td>\n",
       "      <td>1</td>\n",
       "      <td>emergency</td>\n",
       "      <td>medicare</td>\n",
       "      <td>1</td>\n",
       "      <td>catholic</td>\n",
       "      <td>0</td>\n",
       "      <td>asian - japanese</td>\n",
       "      <td>? serotonin syndrome</td>\n",
       "    </tr>\n",
       "    <tr>\n",
       "      <th>3</th>\n",
       "      <td>17138</td>\n",
       "      <td>34.187500</td>\n",
       "      <td>0</td>\n",
       "      <td>elective</td>\n",
       "      <td>medicare</td>\n",
       "      <td>1</td>\n",
       "      <td>catholic</td>\n",
       "      <td>1</td>\n",
       "      <td>white</td>\n",
       "      <td>abdominal aortic aneurysm/sda</td>\n",
       "    </tr>\n",
       "    <tr>\n",
       "      <th>4</th>\n",
       "      <td>27703</td>\n",
       "      <td>6.165972</td>\n",
       "      <td>0</td>\n",
       "      <td>elective</td>\n",
       "      <td>government</td>\n",
       "      <td>0</td>\n",
       "      <td>protestant quaker</td>\n",
       "      <td>0</td>\n",
       "      <td>black/african american</td>\n",
       "      <td>absence/sda</td>\n",
       "    </tr>\n",
       "  </tbody>\n",
       "</table>\n",
       "</div>"
      ],
      "text/plain": [
       "      ID  AdmissionLengthDays  Death_1 Admission_Type Insurance_Type  \\\n",
       "0  42862             4.277778        0       elective        private   \n",
       "1   5967            26.122917        0       elective        private   \n",
       "2  50952             7.028472        1      emergency       medicare   \n",
       "3  17138            34.187500        0       elective       medicare   \n",
       "4  27703             6.165972        0       elective     government   \n",
       "\n",
       "   EnglishLanguage_1      Religion_Type  Married_1                    Race  \\\n",
       "0                  1       episcopalian          1                   white   \n",
       "1                  0           catholic          1                   white   \n",
       "2                  1           catholic          0        asian - japanese   \n",
       "3                  1           catholic          1                   white   \n",
       "4                  0  protestant quaker          0  black/african american   \n",
       "\n",
       "                                                Dx  \n",
       "0    mitral stenosis\\mitral valve replacement /sda  \n",
       "1                                duodenal mass/sda  \n",
       "2                             ? serotonin syndrome  \n",
       "3                    abdominal aortic aneurysm/sda  \n",
       "4                                      absence/sda  "
      ]
     },
     "execution_count": 3,
     "metadata": {},
     "output_type": "execute_result"
    }
   ],
   "source": [
    "df.head()"
   ]
  },
  {
   "cell_type": "code",
   "execution_count": 4,
   "metadata": {},
   "outputs": [
    {
     "data": {
      "text/html": [
       "<div>\n",
       "<style scoped>\n",
       "    .dataframe tbody tr th:only-of-type {\n",
       "        vertical-align: middle;\n",
       "    }\n",
       "\n",
       "    .dataframe tbody tr th {\n",
       "        vertical-align: top;\n",
       "    }\n",
       "\n",
       "    .dataframe thead th {\n",
       "        text-align: right;\n",
       "    }\n",
       "</style>\n",
       "<table border=\"1\" class=\"dataframe\">\n",
       "  <thead>\n",
       "    <tr style=\"text-align: right;\">\n",
       "      <th></th>\n",
       "      <th>ID</th>\n",
       "      <th>AdmissionLengthDays</th>\n",
       "      <th>Death_1</th>\n",
       "      <th>Admission_Type</th>\n",
       "      <th>Insurance_Type</th>\n",
       "      <th>EnglishLanguage_1</th>\n",
       "      <th>Religion_Type</th>\n",
       "      <th>Married_1</th>\n",
       "      <th>Race</th>\n",
       "      <th>Dx</th>\n",
       "    </tr>\n",
       "  </thead>\n",
       "  <tbody>\n",
       "    <tr>\n",
       "      <th>58858</th>\n",
       "      <td>42349</td>\n",
       "      <td>12.177083</td>\n",
       "      <td>0</td>\n",
       "      <td>elective</td>\n",
       "      <td>medicare</td>\n",
       "      <td>1</td>\n",
       "      <td>catholic</td>\n",
       "      <td>1</td>\n",
       "      <td>white</td>\n",
       "      <td>zenker's diverticulum/sda</td>\n",
       "    </tr>\n",
       "    <tr>\n",
       "      <th>58859</th>\n",
       "      <td>57461</td>\n",
       "      <td>10.613889</td>\n",
       "      <td>0</td>\n",
       "      <td>elective</td>\n",
       "      <td>medicare</td>\n",
       "      <td>1</td>\n",
       "      <td>catholic</td>\n",
       "      <td>0</td>\n",
       "      <td>white</td>\n",
       "      <td>zenker's diverticulum/sda</td>\n",
       "    </tr>\n",
       "    <tr>\n",
       "      <th>58860</th>\n",
       "      <td>11800</td>\n",
       "      <td>1.095139</td>\n",
       "      <td>0</td>\n",
       "      <td>emergency</td>\n",
       "      <td>private</td>\n",
       "      <td>0</td>\n",
       "      <td>unobtainable</td>\n",
       "      <td>0</td>\n",
       "      <td>white</td>\n",
       "      <td>zone 2 neck injury</td>\n",
       "    </tr>\n",
       "    <tr>\n",
       "      <th>58861</th>\n",
       "      <td>54574</td>\n",
       "      <td>2.925000</td>\n",
       "      <td>0</td>\n",
       "      <td>emergency</td>\n",
       "      <td>medicare</td>\n",
       "      <td>1</td>\n",
       "      <td>not specified</td>\n",
       "      <td>0</td>\n",
       "      <td>black/african american</td>\n",
       "      <td>zoster vs. meningitis</td>\n",
       "    </tr>\n",
       "    <tr>\n",
       "      <th>58862</th>\n",
       "      <td>29394</td>\n",
       "      <td>2.851389</td>\n",
       "      <td>0</td>\n",
       "      <td>emergency</td>\n",
       "      <td>private</td>\n",
       "      <td>1</td>\n",
       "      <td>unobtainable</td>\n",
       "      <td>0</td>\n",
       "      <td>white</td>\n",
       "      <td>zygomatic fracture left</td>\n",
       "    </tr>\n",
       "  </tbody>\n",
       "</table>\n",
       "</div>"
      ],
      "text/plain": [
       "          ID  AdmissionLengthDays  Death_1 Admission_Type Insurance_Type  \\\n",
       "58858  42349            12.177083        0       elective       medicare   \n",
       "58859  57461            10.613889        0       elective       medicare   \n",
       "58860  11800             1.095139        0      emergency        private   \n",
       "58861  54574             2.925000        0      emergency       medicare   \n",
       "58862  29394             2.851389        0      emergency        private   \n",
       "\n",
       "       EnglishLanguage_1  Religion_Type  Married_1                    Race  \\\n",
       "58858                  1       catholic          1                   white   \n",
       "58859                  1       catholic          0                   white   \n",
       "58860                  0   unobtainable          0                   white   \n",
       "58861                  1  not specified          0  black/african american   \n",
       "58862                  1   unobtainable          0                   white   \n",
       "\n",
       "                              Dx  \n",
       "58858  zenker's diverticulum/sda  \n",
       "58859  zenker's diverticulum/sda  \n",
       "58860         zone 2 neck injury  \n",
       "58861      zoster vs. meningitis  \n",
       "58862    zygomatic fracture left  "
      ]
     },
     "execution_count": 4,
     "metadata": {},
     "output_type": "execute_result"
    }
   ],
   "source": [
    "df.tail()"
   ]
  },
  {
   "cell_type": "code",
   "execution_count": 5,
   "metadata": {},
   "outputs": [
    {
     "name": "stdout",
     "output_type": "stream",
     "text": [
      "<class 'pandas.core.frame.DataFrame'>\n",
      "RangeIndex: 58863 entries, 0 to 58862\n",
      "Data columns (total 10 columns):\n",
      "ID                     58863 non-null int64\n",
      "AdmissionLengthDays    58863 non-null float64\n",
      "Death_1                58863 non-null int64\n",
      "Admission_Type         58863 non-null object\n",
      "Insurance_Type         58863 non-null object\n",
      "EnglishLanguage_1      58863 non-null int64\n",
      "Religion_Type          58408 non-null object\n",
      "Married_1              58863 non-null int64\n",
      "Race                   58863 non-null object\n",
      "Dx                     58863 non-null object\n",
      "dtypes: float64(1), int64(4), object(5)\n",
      "memory usage: 4.5+ MB\n"
     ]
    }
   ],
   "source": [
    "df.info()"
   ]
  },
  {
   "cell_type": "code",
   "execution_count": 6,
   "metadata": {},
   "outputs": [
    {
     "data": {
      "text/html": [
       "<div>\n",
       "<style scoped>\n",
       "    .dataframe tbody tr th:only-of-type {\n",
       "        vertical-align: middle;\n",
       "    }\n",
       "\n",
       "    .dataframe tbody tr th {\n",
       "        vertical-align: top;\n",
       "    }\n",
       "\n",
       "    .dataframe thead th {\n",
       "        text-align: right;\n",
       "    }\n",
       "</style>\n",
       "<table border=\"1\" class=\"dataframe\">\n",
       "  <thead>\n",
       "    <tr style=\"text-align: right;\">\n",
       "      <th></th>\n",
       "      <th>ID</th>\n",
       "      <th>AdmissionLengthDays</th>\n",
       "      <th>Death_1</th>\n",
       "      <th>EnglishLanguage_1</th>\n",
       "      <th>Married_1</th>\n",
       "    </tr>\n",
       "  </thead>\n",
       "  <tbody>\n",
       "    <tr>\n",
       "      <th>count</th>\n",
       "      <td>58863.000000</td>\n",
       "      <td>58863.000000</td>\n",
       "      <td>58863.000000</td>\n",
       "      <td>58863.000000</td>\n",
       "      <td>58863.000000</td>\n",
       "    </tr>\n",
       "    <tr>\n",
       "      <th>mean</th>\n",
       "      <td>29508.211984</td>\n",
       "      <td>10.138978</td>\n",
       "      <td>0.099417</td>\n",
       "      <td>0.571072</td>\n",
       "      <td>0.410665</td>\n",
       "    </tr>\n",
       "    <tr>\n",
       "      <th>std</th>\n",
       "      <td>17026.189024</td>\n",
       "      <td>12.465611</td>\n",
       "      <td>0.299224</td>\n",
       "      <td>0.494927</td>\n",
       "      <td>0.491959</td>\n",
       "    </tr>\n",
       "    <tr>\n",
       "      <th>min</th>\n",
       "      <td>1.000000</td>\n",
       "      <td>-0.945139</td>\n",
       "      <td>0.000000</td>\n",
       "      <td>0.000000</td>\n",
       "      <td>0.000000</td>\n",
       "    </tr>\n",
       "    <tr>\n",
       "      <th>25%</th>\n",
       "      <td>14762.500000</td>\n",
       "      <td>3.743056</td>\n",
       "      <td>0.000000</td>\n",
       "      <td>0.000000</td>\n",
       "      <td>0.000000</td>\n",
       "    </tr>\n",
       "    <tr>\n",
       "      <th>50%</th>\n",
       "      <td>29523.000000</td>\n",
       "      <td>6.465972</td>\n",
       "      <td>0.000000</td>\n",
       "      <td>1.000000</td>\n",
       "      <td>0.000000</td>\n",
       "    </tr>\n",
       "    <tr>\n",
       "      <th>75%</th>\n",
       "      <td>44254.500000</td>\n",
       "      <td>11.798264</td>\n",
       "      <td>0.000000</td>\n",
       "      <td>1.000000</td>\n",
       "      <td>1.000000</td>\n",
       "    </tr>\n",
       "    <tr>\n",
       "      <th>max</th>\n",
       "      <td>58976.000000</td>\n",
       "      <td>294.660417</td>\n",
       "      <td>1.000000</td>\n",
       "      <td>1.000000</td>\n",
       "      <td>1.000000</td>\n",
       "    </tr>\n",
       "  </tbody>\n",
       "</table>\n",
       "</div>"
      ],
      "text/plain": [
       "                 ID  AdmissionLengthDays       Death_1  EnglishLanguage_1  \\\n",
       "count  58863.000000         58863.000000  58863.000000       58863.000000   \n",
       "mean   29508.211984            10.138978      0.099417           0.571072   \n",
       "std    17026.189024            12.465611      0.299224           0.494927   \n",
       "min        1.000000            -0.945139      0.000000           0.000000   \n",
       "25%    14762.500000             3.743056      0.000000           0.000000   \n",
       "50%    29523.000000             6.465972      0.000000           1.000000   \n",
       "75%    44254.500000            11.798264      0.000000           1.000000   \n",
       "max    58976.000000           294.660417      1.000000           1.000000   \n",
       "\n",
       "          Married_1  \n",
       "count  58863.000000  \n",
       "mean       0.410665  \n",
       "std        0.491959  \n",
       "min        0.000000  \n",
       "25%        0.000000  \n",
       "50%        0.000000  \n",
       "75%        1.000000  \n",
       "max        1.000000  "
      ]
     },
     "execution_count": 6,
     "metadata": {},
     "output_type": "execute_result"
    }
   ],
   "source": [
    "df.describe()"
   ]
  },
  {
   "cell_type": "code",
   "execution_count": 7,
   "metadata": {},
   "outputs": [
    {
     "data": {
      "text/html": [
       "<div>\n",
       "<style scoped>\n",
       "    .dataframe tbody tr th:only-of-type {\n",
       "        vertical-align: middle;\n",
       "    }\n",
       "\n",
       "    .dataframe tbody tr th {\n",
       "        vertical-align: top;\n",
       "    }\n",
       "\n",
       "    .dataframe thead th {\n",
       "        text-align: right;\n",
       "    }\n",
       "</style>\n",
       "<table border=\"1\" class=\"dataframe\">\n",
       "  <thead>\n",
       "    <tr style=\"text-align: right;\">\n",
       "      <th></th>\n",
       "      <th>Admission_Type</th>\n",
       "      <th>Insurance_Type</th>\n",
       "      <th>Religion_Type</th>\n",
       "      <th>Race</th>\n",
       "      <th>Dx</th>\n",
       "    </tr>\n",
       "  </thead>\n",
       "  <tbody>\n",
       "    <tr>\n",
       "      <th>count</th>\n",
       "      <td>58863</td>\n",
       "      <td>58863</td>\n",
       "      <td>58408</td>\n",
       "      <td>58863</td>\n",
       "      <td>58863</td>\n",
       "    </tr>\n",
       "    <tr>\n",
       "      <th>unique</th>\n",
       "      <td>4</td>\n",
       "      <td>5</td>\n",
       "      <td>20</td>\n",
       "      <td>41</td>\n",
       "      <td>15647</td>\n",
       "    </tr>\n",
       "    <tr>\n",
       "      <th>top</th>\n",
       "      <td>emergency</td>\n",
       "      <td>medicare</td>\n",
       "      <td>catholic</td>\n",
       "      <td>white</td>\n",
       "      <td>newborn</td>\n",
       "    </tr>\n",
       "    <tr>\n",
       "      <th>freq</th>\n",
       "      <td>41987</td>\n",
       "      <td>28157</td>\n",
       "      <td>20561</td>\n",
       "      <td>40927</td>\n",
       "      <td>7823</td>\n",
       "    </tr>\n",
       "  </tbody>\n",
       "</table>\n",
       "</div>"
      ],
      "text/plain": [
       "       Admission_Type Insurance_Type Religion_Type   Race       Dx\n",
       "count           58863          58863         58408  58863    58863\n",
       "unique              4              5            20     41    15647\n",
       "top         emergency       medicare      catholic  white  newborn\n",
       "freq            41987          28157         20561  40927     7823"
      ]
     },
     "execution_count": 7,
     "metadata": {},
     "output_type": "execute_result"
    }
   ],
   "source": [
    "df.describe(include='object')"
   ]
  },
  {
   "cell_type": "code",
   "execution_count": 8,
   "metadata": {},
   "outputs": [
    {
     "data": {
      "text/plain": [
       "array(['elective', 'emergency', 'urgent', 'newborn'], dtype=object)"
      ]
     },
     "execution_count": 8,
     "metadata": {},
     "output_type": "execute_result"
    }
   ],
   "source": [
    "df.Admission_Type.unique()"
   ]
  },
  {
   "cell_type": "code",
   "execution_count": 9,
   "metadata": {},
   "outputs": [
    {
     "data": {
      "text/plain": [
       "array(['private', 'medicare', 'government', 'medicaid', 'self pay'],\n",
       "      dtype=object)"
      ]
     },
     "execution_count": 9,
     "metadata": {},
     "output_type": "execute_result"
    }
   ],
   "source": [
    "df.Insurance_Type.unique()"
   ]
  },
  {
   "cell_type": "code",
   "execution_count": 10,
   "metadata": {},
   "outputs": [
    {
     "data": {
      "text/plain": [
       "array(['episcopalian', 'catholic', 'protestant quaker',\n",
       "       'christian scientist', 'other', 'jewish', 'not specified',\n",
       "       'unobtainable', 'greek orthodox', 'buddhist', nan, 'baptist',\n",
       "       \"jehovah's witness\", 'unitarian-universalist', 'muslim',\n",
       "       'romanian east. orth', '7th day adventist', 'methodist', 'hindu',\n",
       "       'hebrew', 'lutheran'], dtype=object)"
      ]
     },
     "execution_count": 10,
     "metadata": {},
     "output_type": "execute_result"
    }
   ],
   "source": [
    "df.Religion_Type.unique()"
   ]
  },
  {
   "cell_type": "code",
   "execution_count": 11,
   "metadata": {},
   "outputs": [
    {
     "data": {
      "text/plain": [
       "array(['white', 'asian - japanese', 'black/african american',\n",
       "       'unknown/not specified', 'asian', 'hispanic or latino',\n",
       "       'unable to obtain', 'other', 'patient declined to answer',\n",
       "       'asian - cambodian', 'asian - asian indian',\n",
       "       'hispanic/latino - dominican', 'black/haitian',\n",
       "       'native hawaiian or other pacific islander',\n",
       "       'hispanic/latino - puerto rican', 'white - russian',\n",
       "       'white - other european', 'asian - chinese', 'asian - korean',\n",
       "       'multi race ethnicity', 'hispanic/latino - colombian',\n",
       "       'black/cape verdean', 'asian - filipino', 'asian - vietnamese',\n",
       "       'portuguese', 'hispanic/latino - cuban', 'black/african',\n",
       "       'hispanic/latino - guatemalan', 'white - brazilian',\n",
       "       'middle eastern', 'white - eastern european', 'south american',\n",
       "       'hispanic/latino - mexican', 'hispanic/latino - salvadoran',\n",
       "       'asian - other', 'hispanic/latino - central american (other)',\n",
       "       'american indian/alaska native', 'caribbean island',\n",
       "       'hispanic/latino - honduran', 'asian - thai',\n",
       "       'american indian/alaska native federally recognized tribe'],\n",
       "      dtype=object)"
      ]
     },
     "execution_count": 11,
     "metadata": {},
     "output_type": "execute_result"
    }
   ],
   "source": [
    "df.Race.unique()"
   ]
  },
  {
   "cell_type": "code",
   "execution_count": 12,
   "metadata": {},
   "outputs": [
    {
     "data": {
      "text/plain": [
       "array(['  mitral stenosis\\\\mitral valve replacement /sda',\n",
       "       ' duodenal mass/sda', ' ? serotonin syndrome', ...,\n",
       "       'zone 2 neck injury', 'zoster vs. meningitis',\n",
       "       'zygomatic fracture left'], dtype=object)"
      ]
     },
     "execution_count": 12,
     "metadata": {},
     "output_type": "execute_result"
    }
   ],
   "source": [
    "df.Dx.unique()"
   ]
  },
  {
   "cell_type": "code",
   "execution_count": 13,
   "metadata": {},
   "outputs": [],
   "source": [
    "import matplotlib.pyplot as plt"
   ]
  },
  {
   "cell_type": "code",
   "execution_count": 14,
   "metadata": {},
   "outputs": [
    {
     "data": {
      "text/plain": [
       "Text(0.5, 1.0, 'Histogram of Admission Length')"
      ]
     },
     "execution_count": 14,
     "metadata": {},
     "output_type": "execute_result"
    },
    {
     "data": {
      "image/png": "[encoded data removed]",
      "text/plain": [
       "<Figure size 432x288 with 1 Axes>"
      ]
     },
     "metadata": {
      "needs_background": "light"
     },
     "output_type": "display_data"
    }
   ],
   "source": [
    "df.AdmissionLengthDays.hist(density=True, label=True)\n",
    "plt.xlabel('Admission Length (Days)')\n",
    "plt.ylabel('Probability')\n",
    "plt.title('Histogram of Admission Length')"
   ]
  },
  {
   "cell_type": "code",
   "execution_count": 15,
   "metadata": {},
   "outputs": [
    {
     "data": {
      "text/plain": [
       "Text(0.5, 1.0, 'Histogram of Admission Length on Log Scale')"
      ]
     },
     "execution_count": 15,
     "metadata": {},
     "output_type": "execute_result"
    },
    {
     "data": {
      "image/png": "[encoded data removed]",
      "text/plain": [
       "<Figure size 432x288 with 1 Axes>"
      ]
     },
     "metadata": {
      "needs_background": "light"
     },
     "output_type": "display_data"
    }
   ],
   "source": [
    "df.AdmissionLengthDays.hist(density=True, label=True, log=True)\n",
    "plt.xlabel('Admission Length (Days)')\n",
    "plt.ylabel('Log Probability')\n",
    "plt.title('Histogram of Admission Length on Log Scale')"
   ]
  },
  {
   "cell_type": "code",
   "execution_count": 16,
   "metadata": {},
   "outputs": [
    {
     "name": "stdout",
     "output_type": "stream",
     "text": [
      "                   ID  AdmissionLengthDays  EnglishLanguage_1  Married_1\n",
      "Death_1                                                                 \n",
      "0        29484.310219            10.140012           0.576748   0.406765\n",
      "1        29724.728811            10.129606           0.519651   0.446001\n"
     ]
    }
   ],
   "source": [
    "print(df.groupby('Death_1').mean())"
   ]
  },
  {
   "cell_type": "code",
   "execution_count": 17,
   "metadata": {},
   "outputs": [
    {
     "data": {
      "text/plain": [
       "Text(0.5, 0, 'Death Status (1 = Died)')"
      ]
     },
     "execution_count": 17,
     "metadata": {},
     "output_type": "execute_result"
    },
    {
     "data": {
      "image/png": "[encoded data removed]",
      "text/plain": [
       "<Figure size 432x288 with 1 Axes>"
      ]
     },
     "metadata": {
      "needs_background": "light"
     },
     "output_type": "display_data"
    }
   ],
   "source": [
    "df.groupby('Death_1').mean().plot.bar(y='AdmissionLengthDays')\n",
    "plt.title('Bar plot for Average Admission Length Comparing Death Status')\n",
    "plt.ylabel('Average Admission Length (Days)')\n",
    "plt.xlabel('Death Status (1 = Died)')"
   ]
  },
  {
   "cell_type": "code",
   "execution_count": 18,
   "metadata": {},
   "outputs": [
    {
     "name": "stdout",
     "output_type": "stream",
     "text": [
      "Insurance_Type  government  medicaid  medicare  private  self pay\n",
      "Death_1                                                          \n",
      "0                     1691      5400     24253    21152       515\n",
      "1                       90       381      3904     1382        95\n"
     ]
    }
   ],
   "source": [
    "# describe the association between death and insurance type\n",
    "death_insurance = pd.crosstab(df.Death_1, df.Insurance_Type)\n",
    "print(death_insurance)"
   ]
  },
  {
   "cell_type": "code",
   "execution_count": 19,
   "metadata": {},
   "outputs": [
    {
     "data": {
      "text/plain": [
       "Text(0, 0.5, 'Counts for each insurance type')"
      ]
     },
     "execution_count": 19,
     "metadata": {},
     "output_type": "execute_result"
    },
    {
     "data": {
      "image/png": "[encoded data removed]",
      "text/plain": [
       "<Figure size 432x288 with 1 Axes>"
      ]
     },
     "metadata": {
      "needs_background": "light"
     },
     "output_type": "display_data"
    }
   ],
   "source": [
    "death_insurance.plot.bar()\n",
    "plt.xlabel('Death Status (1 = Died)')\n",
    "plt.ylabel('Counts for each insurance type')"
   ]
  },
  {
   "cell_type": "code",
   "execution_count": 21,
   "metadata": {},
   "outputs": [
    {
     "data": {
      "text/plain": [
       "(990.8535593949656,\n",
       " 3.425615316200906e-213,\n",
       " 4,\n",
       " array([[ 1603.93780473,  5206.26864074, 25357.70733738, 20293.73076466,\n",
       "           549.35545249],\n",
       "        [  177.06219527,   574.73135926,  2799.29266262,  2240.26923534,\n",
       "            60.64454751]]))"
      ]
     },
     "execution_count": 21,
     "metadata": {},
     "output_type": "execute_result"
    }
   ],
   "source": [
    "from scipy import stats\n",
    "stats.chi2_contingency(death_insurance)"
   ]
  }
 ],
 "metadata": {
  "kernelspec": {
   "display_name": "Python [conda env:env_tutorial] *",
   "language": "python",
   "name": "conda-env-env_tutorial-py"
  },
  "language_info": {
   "codemirror_mode": {
    "name": "ipython",
    "version": 3
   },
   "file_extension": ".py",
   "mimetype": "text/x-python",
   "name": "python",
   "nbconvert_exporter": "python",
   "pygments_lexer": "ipython3",
   "version": "3.7.3"
  }
 },
 "nbformat": 4,
 "nbformat_minor": 2
}
