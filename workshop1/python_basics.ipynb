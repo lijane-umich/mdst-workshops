{
 "cells": [
  {
   "cell_type": "code",
   "execution_count": 1,
   "metadata": {},
   "outputs": [],
   "source": [
    "# Add any imports you need here:\n",
    "\n",
    "\n",
    "def part1(num):\n",
    "    num = int(input(\"Enter a number: \"))\n",
    "    if (num % 2) == 0:\n",
    "        print(\"{0} is Even\".format(num))\n",
    "    else:\n",
    "        print(\"{0} is Odd\".format(num))\n"
   ]
  },
  {
   "cell_type": "code",
   "execution_count": 2,
   "metadata": {},
   "outputs": [],
   "source": [
    "import random\n",
    "answer = random.randint(1, 9)\n",
    "def part2(guess):\n",
    "    guess = int(input(\"Guess a number between 1 and 9: \"))\n",
    "    if(guess >  answer):\n",
    "        print(\"too high\")\n",
    "    elif(guess < answer):\n",
    "        print(\"too low\")\n",
    "    elif(guess ==answer):\n",
    "        print(\"correct!\")"
   ]
  },
  {
   "cell_type": "code",
   "execution_count": 3,
   "metadata": {},
   "outputs": [],
   "source": [
    "\n",
    "def part3(string):\n",
    "    \"\"\"\n",
    "    Ask the user for a string and print out whether this string is a palindrome\n",
    "    or not. (A palindrome is a string that reads the same forwards and\n",
    "    backwards.)\n",
    "    \"\"\"\n",
    "    string=input(\"Please enter a word\")\n",
    "    string=str(string)\n",
    "    rvs=string[::-1]\n",
    "    print(rvs)\n",
    "    if string == rvs:\n",
    "        print(\"This word is a palindrome\")\n",
    "    else:\n",
    "        print(\"This word is not a palindrome\")\n",
    "\n"
   ]
  },
  {
   "cell_type": "code",
   "execution_count": 4,
   "metadata": {},
   "outputs": [],
   "source": [
    "import base64\n",
    "\n",
    "def part4a(filename, username, password):    \n",
    "     with open(filename, \"w\") as f:\n",
    "        f.write(base64.b64encode(username) + \"\\n\")\n",
    "        \n",
    "        f.write(base64.b64encode(password) + \"\\n\")\n",
    "     \n"
   ]
  },
  {
   "cell_type": "code",
   "execution_count": 5,
   "metadata": {},
   "outputs": [],
   "source": [
    "def part4b(filename, password=None):\n",
    "    \n",
    "    with open(filename, \"r\") as f:\n",
    "        [enc_username, enc_password] = list(f)\n",
    "        print(\"Username: \" + base64.b64decode(enc_username.strip()))\n",
    "        print(\"Password: \" + base64.b64decode(enc_password.strip()))\n",
    "    if password is not None:\n",
    "        part4a(filename, base64.b64decode(enc_username.strip()), password)\n"
   ]
  },
  {
   "cell_type": "code",
   "execution_count": 6,
   "metadata": {},
   "outputs": [
    {
     "name": "stdout",
     "output_type": "stream",
     "text": [
      "Enter a number: 3\n",
      "3 is Odd\n",
      "Enter a number: 4\n",
      "4 is Even\n",
      "Guess a number between 1 and 9: 4\n",
      "too high\n",
      "Please enter a wordratrace\n",
      "ecartar\n",
      "This word is not a palindrome\n",
      "Please enter a wordracecar\n",
      "racecar\n",
      "This word is a palindrome\n"
     ]
    }
   ],
   "source": [
    "\n",
    "if __name__ == \"__main__\":\n",
    "    part1(3)  # odd!\n",
    "    part1(4)  # even!\n",
    "    part2(8)\n",
    "    part3(\"ratrace\")  # False\n",
    "    part3(\"racecar\")  # True\n",
    "if __name__ == b\"__main__\":\n",
    "    part4a(\"secret.txt\", \"naitian\", \"p4ssw0rd\")\n",
    "    part4b(\"secret.txt\")\n",
    "    part4b(\"secret.txt\", password=\"p4ssw0rd!\")\n",
    "    part4b(\"secret.txt\")"
   ]
  }
 ],
 "metadata": {
  "kernelspec": {
   "display_name": "Python 3",
   "language": "python",
   "name": "python3"
  },
  "language_info": {
   "codemirror_mode": {
    "name": "ipython",
    "version": 3
   },
   "file_extension": ".py",
   "mimetype": "text/x-python",
   "name": "python",
   "nbconvert_exporter": "python",
   "pygments_lexer": "ipython3",
   "version": "3.7.3"
  }
 },
 "nbformat": 4,
 "nbformat_minor": 2
}
